{
 "cells": [
  {
   "cell_type": "code",
   "execution_count": null,
   "metadata": {},
   "outputs": [],
   "source": [
    "Subject1=int(input(\"Enter Your First Sunject Marks\\n\"))\n",
    "Subject2=int(input(\"Enter Your Second Sunject Marks\\n\"))\n",
    "Subject3=int(input(\"Enter Your Third Sunject Marks\\n\"))\n",
    "Subject4=int(input(\"Enter Your Fourth Sunject Marks\\n\"))\n",
    "Subject5=int(input(\"Enter Your Fifth Sunject Marks\\n\"))\n",
    "\n",
    "Total = (Subject1+Subject2+Subject3+Subject4+Subject5)/5\n",
    "\n",
    "if(Total > 90):\n",
    "    print(\"Your Grade Is A\")\n",
    "    \n",
    "elif(Total > 80 and Total < 90):\n",
    "    print(\"Your Grade Is B\")\n",
    "    \n",
    "elif(Total > 70 and Total < 80):\n",
    "    print(\"Your Grade Is C\")\n",
    "    \n",
    "elif(Total > 60 and Total < 70):\n",
    "    print(\"Your Grade Is D\")\n",
    "    \n",
    "else:\n",
    "    print(\"Your Are Fail\")"
   ]
  },
  {
   "cell_type": "code",
   "execution_count": 1,
   "metadata": {},
   "outputs": [
    {
     "name": "stdout",
     "output_type": "stream",
     "text": [
      "Enter Your Number To Check Even Or Odd\n",
      "2\n",
      "Your Enter Number Is Even 2\n"
     ]
    }
   ],
   "source": [
    "check=  int(input((\"Enter Your Number To Check Even Or Odd\\n\")))\n",
    "\n",
    "if(check%2==0):\n",
    "    print(\"Your Enter Number Is Even\",check)\n",
    "    \n",
    "else:\n",
    "    print(\"Your Enter Number Is Odd\",check)"
   ]
  },
  {
   "cell_type": "code",
   "execution_count": 13,
   "metadata": {},
   "outputs": [
    {
     "name": "stdout",
     "output_type": "stream",
     "text": [
      "11\n"
     ]
    }
   ],
   "source": [
    "list1=[1,1,2,3,5,8,13,21,34,55,89]\n",
    "print(len(list1))"
   ]
  },
  {
   "cell_type": "code",
   "execution_count": 11,
   "metadata": {},
   "outputs": [
    {
     "name": "stdout",
     "output_type": "stream",
     "text": [
      "232\n"
     ]
    }
   ],
   "source": [
    "list1=[1,1,2,3,5,8,13,21,34,55,89]\n",
    "add=sum(list1)\n",
    "print(add)"
   ]
  },
  {
   "cell_type": "code",
   "execution_count": 12,
   "metadata": {},
   "outputs": [
    {
     "name": "stdout",
     "output_type": "stream",
     "text": [
      "89\n"
     ]
    }
   ],
   "source": [
    "list1=[1,1,2,3,5,8,13,21,34,55,89]\n",
    "print(max(list1))"
   ]
  },
  {
   "cell_type": "code",
   "execution_count": 19,
   "metadata": {},
   "outputs": [
    {
     "name": "stdout",
     "output_type": "stream",
     "text": [
      "1\n",
      "1\n",
      "2\n",
      "3\n"
     ]
    }
   ],
   "source": [
    "list1=[1,1,2,3,5,8,13,21,34,55,89]\n",
    "for i in list1:\n",
    "    if(i<5):\n",
    "        print(i)\n",
    " \n",
    "    "
   ]
  },
  {
   "cell_type": "code",
   "execution_count": null,
   "metadata": {},
   "outputs": [],
   "source": []
  }
 ],
 "metadata": {
  "kernelspec": {
   "display_name": "Python 3",
   "language": "python",
   "name": "python3"
  },
  "language_info": {
   "codemirror_mode": {
    "name": "ipython",
    "version": 3
   },
   "file_extension": ".py",
   "mimetype": "text/x-python",
   "name": "python",
   "nbconvert_exporter": "python",
   "pygments_lexer": "ipython3",
   "version": "3.7.4"
  }
 },
 "nbformat": 4,
 "nbformat_minor": 2
}
