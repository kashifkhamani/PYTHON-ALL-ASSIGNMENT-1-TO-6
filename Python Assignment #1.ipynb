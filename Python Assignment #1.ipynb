{
 "cells": [
  {
   "cell_type": "code",
   "execution_count": 26,
   "metadata": {},
   "outputs": [
    {
     "name": "stdout",
     "output_type": "stream",
     "text": [
      "Twinkle , twinkle , little star,\n",
      "      How  I  Wonder what you are! \n",
      "              Up above the world so high, \n",
      "              like a diamond in the sky.\n",
      "Twinkle , twinkle , little star,\n",
      "      How  I  Wonder what you are! \n"
     ]
    }
   ],
   "source": [
    "print(\"Twinkle , twinkle , little star,\")\n",
    "print(\"      How  I  Wonder what you are! \")\n",
    "print(\"              Up above the world so high, \")\n",
    "print(\"              like a diamond in the sky.\")\n",
    "print(\"Twinkle , twinkle , little star,\")\n",
    "print(\"      How  I  Wonder what you are! \")"
   ]
  },
  {
   "cell_type": "code",
   "execution_count": 4,
   "metadata": {},
   "outputs": [
    {
     "name": "stdout",
     "output_type": "stream",
     "text": [
      "3.7.4 (default, Aug  9 2019, 18:34:13) [MSC v.1915 64 bit (AMD64)]\n"
     ]
    }
   ],
   "source": [
    "import platform;\n",
    "print(platform.sys.version)"
   ]
  },
  {
   "cell_type": "code",
   "execution_count": 33,
   "metadata": {},
   "outputs": [
    {
     "name": "stdout",
     "output_type": "stream",
     "text": [
      "Date_Time = 2019-11-03 00:37:09.375967\n"
     ]
    }
   ],
   "source": [
    "from datetime import datetime;\n",
    "now = datetime.now()\n",
    "print(\"Date_Time =\",now)"
   ]
  },
  {
   "cell_type": "code",
   "execution_count": 1,
   "metadata": {},
   "outputs": [
    {
     "name": "stdout",
     "output_type": "stream",
     "text": [
      "Input the radius of circle12\n",
      "circle radius is 12.0is452.3893421169302\n"
     ]
    }
   ],
   "source": [
    "from math import pi\n",
    "radius = float(input(\"Input the radius of circle\"))\n",
    "print(\"circle radius is \"+str(radius)+\"is\"+str(pi*radius**2))"
   ]
  },
  {
   "cell_type": "code",
   "execution_count": 3,
   "metadata": {},
   "outputs": [
    {
     "name": "stdout",
     "output_type": "stream",
     "text": [
      "Enter your first name....KASHIF\n",
      "Enter your lastname......KHAMANI\n",
      "hello KHAMANI  KASHIF\n"
     ]
    }
   ],
   "source": [
    "firstname= input(\"Enter your first name....\")\n",
    "lastname= input(\"Enter your lastname......\")\n",
    "print(\"hello\" + \" \" + lastname + \"  \" + firstname )"
   ]
  },
  {
   "cell_type": "code",
   "execution_count": 8,
   "metadata": {},
   "outputs": [
    {
     "name": "stdout",
     "output_type": "stream",
     "text": [
      "Enter Your First value...12\n",
      "Enter Your Second value...21\n",
      "33\n"
     ]
    }
   ],
   "source": [
    "firstvalue= int(input(\"Enter Your First value...\"))\n",
    "Secondvalue= int(input(\"Enter Your Second value...\"))\n",
    "result= firstvalue + Secondvalue\n",
    "print(result)"
   ]
  },
  {
   "cell_type": "markdown",
   "metadata": {},
   "source": [
    "## "
   ]
  },
  {
   "cell_type": "code",
   "execution_count": null,
   "metadata": {},
   "outputs": [],
   "source": []
  },
  {
   "cell_type": "code",
   "execution_count": null,
   "metadata": {},
   "outputs": [],
   "source": []
  }
 ],
 "metadata": {
  "kernelspec": {
   "display_name": "Python 3",
   "language": "python",
   "name": "python3"
  },
  "language_info": {
   "codemirror_mode": {
    "name": "ipython",
    "version": 3
   },
   "file_extension": ".py",
   "mimetype": "text/x-python",
   "name": "python",
   "nbconvert_exporter": "python",
   "pygments_lexer": "ipython3",
   "version": "3.7.4"
  }
 },
 "nbformat": 4,
 "nbformat_minor": 2
}
