{
 "cells": [
  {
   "cell_type": "code",
   "execution_count": 2,
   "metadata": {},
   "outputs": [
    {
     "data": {
      "text/plain": [
       "24"
      ]
     },
     "execution_count": 2,
     "metadata": {},
     "output_type": "execute_result"
    }
   ],
   "source": [
    " def factorial(numb):\n",
    "    if(numb==0):\n",
    "        return 1\n",
    "    else:\n",
    "        return numb*factorial(numb-1)\n",
    "factorial(4)\n"
   ]
  },
  {
   "cell_type": "code",
   "execution_count": 3,
   "metadata": {},
   "outputs": [
    {
     "name": "stdout",
     "output_type": "stream",
     "text": [
      "original string : PYTHON PROGRAMMING LANGUAGE\n",
      "number of uppercase character  6\n",
      "number of lowercase character  0\n",
      "original string : PYTHON PROGRAMMING LANGUAGE\n",
      "number of uppercase character  17\n",
      "number of lowercase character  0\n"
     ]
    }
   ],
   "source": [
    "def checklowerupper(s):\n",
    "    d={\"UPPER_CASE\":0,\"LOWER_CASE\":0}\n",
    "    for c in s:\n",
    "        if c.isupper():\n",
    "            d[\"UPPER_CASE\"]+=1\n",
    "        \n",
    "        elif c.islower():\n",
    "            d[\"LOWER_CASE\"]+=1\n",
    "        \n",
    "    \n",
    "        else:\n",
    "            print(\"original string :\",s)\n",
    "            print(\"number of uppercase character \", d[\"UPPER_CASE\"])\n",
    "            print(\"number of lowercase character \", d[\"LOWER_CASE\"])\n",
    "            \n",
    "checklowerupper(\"PYTHON PROGRAMMING LANGUAGE\")        "
   ]
  },
  {
   "cell_type": "code",
   "execution_count": 4,
   "metadata": {},
   "outputs": [
    {
     "name": "stdout",
     "output_type": "stream",
     "text": [
      "2  Number is even \n",
      "4  Number is even \n",
      "6  Number is even \n",
      "8  Number is even \n",
      "10  Number is even \n",
      "12  Number is even \n",
      "14  Number is even \n",
      "16  Number is even \n",
      "18  Number is even \n",
      "20  Number is even \n",
      "52  Number is even \n"
     ]
    }
   ],
   "source": [
    "def even():\n",
    "    Even_numb = [1,2,3,4,5,6,7,8,9,10,11,12,13,14,15,16,17,18,19,20,41,52,]\n",
    "    for i in (Even_numb):\n",
    "        if(i % 2==0):\n",
    "            print(i,\" Number is even \")\n",
    "        \n",
    "even()   "
   ]
  },
  {
   "cell_type": "code",
   "execution_count": 1,
   "metadata": {},
   "outputs": [
    {
     "name": "stdout",
     "output_type": "stream",
     "text": [
      "2 Is Prime number\n"
     ]
    }
   ],
   "source": [
    " def prime_numb(numb1):\n",
    "    for i in range(1,numb1):\n",
    "        if(numb1 % i==0):\n",
    "            print(numb1,\"Is Prime number\")\n",
    "            break\n",
    "        \n",
    "        else:\n",
    "            print(numb1,\"Is not a Prime number\")\n",
    "prime_numb(2)"
   ]
  },
  {
   "cell_type": "code",
   "execution_count": null,
   "metadata": {},
   "outputs": [],
   "source": []
  },
  {
   "cell_type": "code",
   "execution_count": 6,
   "metadata": {},
   "outputs": [
    {
     "name": "stdout",
     "output_type": "stream",
     "text": [
      "['Madam', 'palinfrom']\n",
      "Madam\n"
     ]
    },
    {
     "data": {
      "text/plain": [
       "' true word =madam,palindrom= madam'"
      ]
     },
     "execution_count": 6,
     "metadata": {},
     "output_type": "execute_result"
    }
   ],
   "source": [
    "def palindrom(string):\n",
    "    w=string.split(\" \")\n",
    "    y=\"\"\n",
    "    for z in w:\n",
    "        y+=z\n",
    "        if(y.lower()==y.lower()[::-1]):\n",
    "            print(w)\n",
    "            print(y)\n",
    "            return f\" true word ={y.lower()},palindrom= {y.lower()[::-1]}\"\n",
    "        else:\n",
    "            print(w)\n",
    "            print(y)\n",
    "            return f\" False word ={y.lower()},palindrom= {y.lower()[::-1]}\"\n",
    "\n",
    "palindrom(\"Madam palinfrom\")            "
   ]
  },
  {
   "cell_type": "code",
   "execution_count": null,
   "metadata": {},
   "outputs": [],
   "source": [
    "def sh(*s):\n",
    "    shop_list=[]\n",
    "    while True:\n",
    "        item=input(\"Enter Shopping Item\\n \")\n",
    "        if (item != '1'):\n",
    "            shop_list.append(item)\n",
    "        else:\n",
    "            break\n",
    "            for i in range(len(shop_list)):\n",
    "                print(\"Your Purchase\\n: {}\".format(shop_list[item]))\n",
    "    \n",
    "sh()    "
   ]
  },
  {
   "cell_type": "code",
   "execution_count": null,
   "metadata": {},
   "outputs": [],
   "source": []
  },
  {
   "cell_type": "code",
   "execution_count": null,
   "metadata": {},
   "outputs": [],
   "source": []
  },
  {
   "cell_type": "code",
   "execution_count": null,
   "metadata": {},
   "outputs": [],
   "source": []
  },
  {
   "cell_type": "code",
   "execution_count": null,
   "metadata": {},
   "outputs": [],
   "source": []
  },
  {
   "cell_type": "code",
   "execution_count": null,
   "metadata": {},
   "outputs": [],
   "source": []
  },
  {
   "cell_type": "code",
   "execution_count": null,
   "metadata": {},
   "outputs": [],
   "source": []
  }
 ],
 "metadata": {
  "kernelspec": {
   "display_name": "Python 3",
   "language": "python",
   "name": "python3"
  },
  "language_info": {
   "codemirror_mode": {
    "name": "ipython",
    "version": 3
   },
   "file_extension": ".py",
   "mimetype": "text/x-python",
   "name": "python",
   "nbconvert_exporter": "python",
   "pygments_lexer": "ipython3",
   "version": "3.7.4"
  }
 },
 "nbformat": 4,
 "nbformat_minor": 2
}
