{
 "cells": [
  {
   "cell_type": "code",
   "execution_count": 9,
   "metadata": {},
   "outputs": [
    {
     "name": "stdout",
     "output_type": "stream",
     "text": [
      "{0: {'first_name': 'Kashif', 'last_name': 'Khamani', 'age': 23, 'city': 'Mirpurkhas', 'Qualification': 'BSC'}, 1: {'first_name': 'Ali', 'last_name': 'Malik', 'age': 23, 'city': 'Karachi', 'Qualification': 'Intermediate'}}\n"
     ]
    }
   ],
   "source": [
    "person_dict = {\n",
    "    0:{\n",
    "    'first_name':'Kashif',\n",
    "    'last_name': 'Khamani',\n",
    "    'age': 23,\n",
    "    'city': 'Mirpurkhas'},\n",
    "    1:{\n",
    "    'first_name':'Ali',\n",
    "    'last_name': 'Malik',\n",
    "    'age': 23,\n",
    "    'city': 'Karachi',\n",
    "    'Qualification':\"Intermediate\"},\n",
    "              }\n",
    "\n",
    "person_dict[0]['Qualification'] = \"BSC\"\n",
    "print(person_dict)\n",
    "\n"
   ]
  },
  {
   "cell_type": "code",
   "execution_count": 2,
   "metadata": {},
   "outputs": [
    {
     "name": "stdout",
     "output_type": "stream",
     "text": [
      "Three cities database which is below mentioned \n",
      "\n",
      "Kabul\n",
      "Yerevan\n",
      "Paris\n",
      "\n",
      "Enter above mentioned cityKabul\n",
      "Kabul : {'country': 'Afghanistan', 'population': '8.281', 'fact': 'Kabul is the capital and largest city of Afghanistan.', 'Most Visited': '20.05 million'}\n"
     ]
    }
   ],
   "source": [
    "cities = {\n",
    "    \"Kabul\": {\n",
    "        \"country\":\"Afghanistan\",\n",
    "        \"population\": \"35.53 million\",\n",
    "        \"fact\": \"Kabul is the capital and largest city of Afghanistan.\",\n",
    "        \"Most Visited\":\"20.05 million\"\n",
    "        },\n",
    "    \n",
    "    \"Yerevan\": {\n",
    "        \"country\":\"Capital of Armenia\",\n",
    "        \"population\": \"1.07 million\",\n",
    "        \"fact\": \"Yerevan, Armenia's capital, is marked by grand Soviet-era architecture\",\n",
    "        \"Most Visited\":\"19.83 million\"\n",
    "        },\n",
    "    \n",
    "    \"Paris\": {\n",
    "        \"country\":\"France\",\n",
    "        \"population\": \"2.141 million\",\n",
    "        \"fact\": \"Paris was originally a Roman City called “Lutetia.\",\n",
    "        \"Most Visited\":\"17.44 million\"\n",
    "        \n",
    "        }\n",
    "}\n",
    "print(\"Three cities database which is below mentioned \\n\")\n",
    "for cities_name in cities.keys():\n",
    "    print(cities_name)\n",
    "city =input(\"\\nEnter above mentioned city\")\n",
    "flag = False\n",
    "for city_key,city_val in cities.items():\n",
    "    if city_key == city:\n",
    "        flag = True\n",
    "        break\n",
    "if(flag):\n",
    "    print(str(city_key) + \" : \" + str(city_val) )\n",
    "else:\n",
    "    print(\"Right Now we dont have that country.\")"
   ]
  },
  {
   "cell_type": "code",
   "execution_count": null,
   "metadata": {},
   "outputs": [],
   "source": [
    "print(\"Welcome to online ticket booking system\\n--------------------------------\\n\\nWe have different prices of tickets according your age\")\n",
    "\n",
    "persons_number =int(input(\"\\nHow many persons = \"))\n",
    "\n",
    "\n",
    "print(\"\\nWe charge ticket cost according the age\\n\")\n",
    "total_price = 0\n",
    "for i in range(1,persons_number+1):\n",
    "    age = int(input(\"\\nPlease Enter Age \"))\n",
    "    if age <= 3 and persons_number != 1:\n",
    "        print(\" \\nWe don't charge for below 3 years old.\")\n",
    "    elif age <= 3 and persons_number == 1:\n",
    "        print(\" \\nWe don't allow alone kid on cinema.\")    \n",
    "    elif age <= 12 and age >= 3:\n",
    "        print(\"We charged more than 3 years old and below 12 years old the ticket cost is 10$\")\n",
    "        total_price +=10\n",
    "                \n",
    "    elif age >= 12:\n",
    "        print(\"We charged more than 12 years old the ticket cost is 12$\")\n",
    "        total_price +=12\n",
    "        \n",
    "print(\"\\n------------------------------------------\\nYour Total Cost of Tickets is \" + str(total_price)+\"$\")"
   ]
  },
  {
   "cell_type": "code",
   "execution_count": 1,
   "metadata": {},
   "outputs": [
    {
     "name": "stdout",
     "output_type": "stream",
     "text": [
      "Welcome to Read Online Books\n",
      "--------------------------------------------\n",
      "\n",
      "Enter Your Book Name = Lolita\n",
      "\n",
      "Thanks for your input here is the details of your provided book name\n",
      "----------------------------------------------\n",
      "\n",
      "Lolita {'Author': 'Vladimir Nabokov', 'Publisher': 'Olympia Press', 'Publication date': '1955', 'Total Pages ': '336'}\n"
     ]
    }
   ],
   "source": [
    "print(\"Welcome to Read Online Books\\n--------------------------------------------\\n\")\n",
    "book_details = {\n",
    "    \"Ulysses\": \n",
    "    {\n",
    "        \"Author\":\"James Joyce\",\n",
    "        \"Publisher\": \"Sylvia Beach\",\n",
    "        \"Publication date\": \"2 February 1922.\",\n",
    "        \"Total Pages \":\"730\"\n",
    "    },\n",
    "    \"Don Quixote\": \n",
    "    {\n",
    "        \"Author\":\"Miguel de Cervantes\",\n",
    "        \"Publisher\": \"Francisco de Robles\",\n",
    "        \"Publication date\": \"1605 (Part One) 1615 (Part Two)\",\n",
    "        \"Total Pages \":\"863\"\n",
    "    },\n",
    "    \"Lolita\": \n",
    "    {\n",
    "        \"Author\":\"Vladimir Nabokov\",\n",
    "        \"Publisher\": \"Olympia Press\",\n",
    "        \"Publication date\": \"1955\",\n",
    "        \"Total Pages \":\"336\"\n",
    "        \n",
    "    }\n",
    "}\n",
    "input_book_name = input(\"Enter Your Book Name = \")\n",
    "\n",
    "def find_book(input_book_name):\n",
    "    flag = False \n",
    "    for book_key,book_values in book_details.items():\n",
    "        if book_key == input_book_name:\n",
    "            flag =  True\n",
    "            break\n",
    "    if(flag):            \n",
    "        print(\"\\nThanks for your input here is the details of your provided book name\\n----------------------------------------------\\n\")\n",
    "        print(str(book_key) + \" \" + str(book_values) )\n",
    "    else:\n",
    "        print(\"Thanks for your input but \"+ input_book_name +\" not available on store\")    \n",
    "    \n",
    "            \n",
    "find_book(input_book_name)"
   ]
  },
  {
   "cell_type": "code",
   "execution_count": 2,
   "metadata": {},
   "outputs": [
    {
     "name": "stdout",
     "output_type": "stream",
     "text": [
      "WELCOME HERE TO CHECK YOUR LUCK\n",
      "Enter One Number which is between 1 to 30 24\n",
      "Your input is wrong and the random number was 1\n",
      "Enter One Number which is between 1 to 30 2\n",
      "Your input is wrong and the random number was 1\n",
      "Enter One Number which is between 1 to 30 1\n",
      "Your input is wrong and the random number was 19\n",
      "Your total score is 0\n"
     ]
    }
   ],
   "source": [
    "import random\n",
    "print(\"WELCOME HERE TO CHECK YOUR LUCK\")\n",
    "total_score = 0\n",
    "Flag = False\n",
    "for x in range(0,3):\n",
    "    number = random.randint(1, 30)\n",
    "    user_number =input(\"Enter One Number which is between 1 to 30 \")\n",
    "    if  str(user_number) == str(number):\n",
    "        total_score += 10\n",
    "        Flag = True\n",
    "    if(Flag):\n",
    "        print(\"Random Number is generated \" + str(number) + \" and Your number is \"+ str(user_number))\n",
    "        \n",
    "    else:\n",
    "        print(\"Your input is wrong and the random number was \" + str(number))\n",
    "print(\"Your total score is \" + str(total_score))"
   ]
  },
  {
   "cell_type": "code",
   "execution_count": null,
   "metadata": {},
   "outputs": [],
   "source": []
  }
 ],
 "metadata": {
  "kernelspec": {
   "display_name": "Python 3",
   "language": "python",
   "name": "python3"
  },
  "language_info": {
   "codemirror_mode": {
    "name": "ipython",
    "version": 3
   },
   "file_extension": ".py",
   "mimetype": "text/x-python",
   "name": "python",
   "nbconvert_exporter": "python",
   "pygments_lexer": "ipython3",
   "version": "3.7.4"
  }
 },
 "nbformat": 4,
 "nbformat_minor": 2
}
